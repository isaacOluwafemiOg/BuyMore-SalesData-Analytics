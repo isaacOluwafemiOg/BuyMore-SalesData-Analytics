{
 "cells": [
  {
   "cell_type": "markdown",
   "metadata": {},
   "source": [
    "# Enter your details in the cells below"
   ]
  },
  {
   "cell_type": "code",
   "execution_count": 1,
   "metadata": {},
   "outputs": [],
   "source": [
    "#Isaac Oluwafemi Ogunniyi"
   ]
  },
  {
   "cell_type": "code",
   "execution_count": 2,
   "metadata": {},
   "outputs": [],
   "source": [
    "#isaacogunniyi1@gmail.com"
   ]
  },
  {
   "cell_type": "markdown",
   "metadata": {},
   "source": [
    "#  Project\n",
    "### Problem Statement\n",
    "\n",
    "Buymore is a fast growing supermarket in Ghana that is taking advantage of the data revolution to make data driven decisions.\n",
    "As their Data Scientist, you are presented with the 2013 daily sales records (Buymore_sales_data.csv) and tasked to help them find answers to the questions below by analysing the given data.\n",
    "\n",
    "1. i. What is the average sales and profit per market? \n",
    "\n",
    "   ii.Plot a stacked bar chart showing the average sales and profit per market.\n",
    "   \n",
    "   iii.Which market brings more sales on the average?\n",
    "\n",
    "\n",
    "2. i. Extract the days(eg:Monday,Tuesday...) and months(eg:January,February...) from the Order Date and add them to the data frame with the name \"Days\" and \"Months\" respectively?\n",
    "\n",
    "   ii.Show the trend of profit from January to December with a line plot.\n",
    "\n",
    "   iii.  Based on the data, which day does the company make high sales on the average?\n",
    "\n",
    "3. i. What is the correlation between sales and profit, what does that mean?\n",
    "\n",
    "   ii. Use a scatter plot to show the relationship between sales and profit.\n",
    "\n",
    "4. i. Plot a grouped bar chart showing the total profit for the different product category(Category) for each market.\n",
    "\n",
    "   ii. From your graph, which product category performs well in each market?\n",
    "\n",
    "#### Notes:\n",
    "* Add titles and labels to your charts.\n",
    "* Use markdowns to write your answers or findings where necessary.\n",
    "* Use comments to exlain you codes where necessary \n",
    "* Remember to import the necessary packages\n",
    "\n",
    "**Thank you**\n",
    "\n",
    "**GOOD LUCK!**\n",
    "\n",
    "\n",
    "\n"
   ]
  },
  {
   "cell_type": "code",
   "execution_count": null,
   "metadata": {},
   "outputs": [],
   "source": []
  },
  {
   "cell_type": "markdown",
   "metadata": {},
   "source": [
    "#### **NB**: To easily load the data, it's advisable you have the data and the notebook file  in the same folder"
   ]
  },
  {
   "cell_type": "code",
   "execution_count": 3,
   "metadata": {},
   "outputs": [],
   "source": [
    "#import your packages here\n",
    "\n",
    "#importing necessary python packages using anaconda\n",
    "\n",
    "import datetime # importing the datetime library so that the datetime data in Buymore_sales_data.csv can be analysed easily.\n",
    "\n",
    "import pandas as pd # importing pandas and aliasing it as pd. Pandas will help us load our data, transform and summmarise it\n",
    "\n",
    "import matplotlib.pyplot as plt # importing the matplotlib library to help with creating of charts and aliasing it as plt.\n",
    "\n",
    "\n",
    "\n",
    "\n"
   ]
  },
  {
   "cell_type": "code",
   "execution_count": null,
   "metadata": {},
   "outputs": [],
   "source": []
  },
  {
   "cell_type": "code",
   "execution_count": 4,
   "metadata": {},
   "outputs": [],
   "source": [
    "# Load the sales data here\n",
    "\n",
    "#loading sales data\n",
    "\n",
    "sales_data = pd.read_csv(\"Buymore_sales_data.csv\")\n",
    "# loading the sales data into a data frame called sales_data with the help of the panda read_csv function\n",
    "\n"
   ]
  },
  {
   "cell_type": "code",
   "execution_count": 5,
   "metadata": {},
   "outputs": [
    {
     "data": {
      "text/html": [
       "<div>\n",
       "<style scoped>\n",
       "    .dataframe tbody tr th:only-of-type {\n",
       "        vertical-align: middle;\n",
       "    }\n",
       "\n",
       "    .dataframe tbody tr th {\n",
       "        vertical-align: top;\n",
       "    }\n",
       "\n",
       "    .dataframe thead th {\n",
       "        text-align: right;\n",
       "    }\n",
       "</style>\n",
       "<table border=\"1\" class=\"dataframe\">\n",
       "  <thead>\n",
       "    <tr style=\"text-align: right;\">\n",
       "      <th></th>\n",
       "      <th>Order Date</th>\n",
       "      <th>Order ID</th>\n",
       "      <th>Market</th>\n",
       "      <th>Category</th>\n",
       "      <th>Sales</th>\n",
       "      <th>Quantity</th>\n",
       "      <th>Profit</th>\n",
       "    </tr>\n",
       "  </thead>\n",
       "  <tbody>\n",
       "    <tr>\n",
       "      <th>0</th>\n",
       "      <td>2013-01-01</td>\n",
       "      <td>ID-2013-37383</td>\n",
       "      <td>Kumasi</td>\n",
       "      <td>Technology</td>\n",
       "      <td>1649.214</td>\n",
       "      <td>7</td>\n",
       "      <td>36.6240</td>\n",
       "    </tr>\n",
       "    <tr>\n",
       "      <th>1</th>\n",
       "      <td>2013-01-01</td>\n",
       "      <td>IN-2013-47960</td>\n",
       "      <td>Kumasi</td>\n",
       "      <td>Furniture</td>\n",
       "      <td>1358.280</td>\n",
       "      <td>7</td>\n",
       "      <td>203.7000</td>\n",
       "    </tr>\n",
       "    <tr>\n",
       "      <th>2</th>\n",
       "      <td>2013-01-01</td>\n",
       "      <td>ID-2013-37383</td>\n",
       "      <td>Kumasi</td>\n",
       "      <td>Technology</td>\n",
       "      <td>728.568</td>\n",
       "      <td>8</td>\n",
       "      <td>-32.4720</td>\n",
       "    </tr>\n",
       "    <tr>\n",
       "      <th>3</th>\n",
       "      <td>2013-01-01</td>\n",
       "      <td>IN-2013-47960</td>\n",
       "      <td>Kumasi</td>\n",
       "      <td>Furniture</td>\n",
       "      <td>2189.520</td>\n",
       "      <td>6</td>\n",
       "      <td>372.0600</td>\n",
       "    </tr>\n",
       "    <tr>\n",
       "      <th>4</th>\n",
       "      <td>2013-01-01</td>\n",
       "      <td>IN-2013-47960</td>\n",
       "      <td>Kumasi</td>\n",
       "      <td>Furniture</td>\n",
       "      <td>1362.060</td>\n",
       "      <td>7</td>\n",
       "      <td>340.4100</td>\n",
       "    </tr>\n",
       "    <tr>\n",
       "      <th>...</th>\n",
       "      <td>...</td>\n",
       "      <td>...</td>\n",
       "      <td>...</td>\n",
       "      <td>...</td>\n",
       "      <td>...</td>\n",
       "      <td>...</td>\n",
       "      <td>...</td>\n",
       "    </tr>\n",
       "    <tr>\n",
       "      <th>13794</th>\n",
       "      <td>2013-12-31</td>\n",
       "      <td>TU-2013-9400</td>\n",
       "      <td>Takoradi</td>\n",
       "      <td>Furniture</td>\n",
       "      <td>10.080</td>\n",
       "      <td>1</td>\n",
       "      <td>-5.5500</td>\n",
       "    </tr>\n",
       "    <tr>\n",
       "      <th>13795</th>\n",
       "      <td>2013-12-31</td>\n",
       "      <td>CA-2013-163951</td>\n",
       "      <td>Koforidua</td>\n",
       "      <td>Office Supplies</td>\n",
       "      <td>16.520</td>\n",
       "      <td>5</td>\n",
       "      <td>1.6520</td>\n",
       "    </tr>\n",
       "    <tr>\n",
       "      <th>13796</th>\n",
       "      <td>2013-12-31</td>\n",
       "      <td>US-2013-111528</td>\n",
       "      <td>Koforidua</td>\n",
       "      <td>Office Supplies</td>\n",
       "      <td>6.384</td>\n",
       "      <td>1</td>\n",
       "      <td>2.1546</td>\n",
       "    </tr>\n",
       "    <tr>\n",
       "      <th>13797</th>\n",
       "      <td>2013-12-31</td>\n",
       "      <td>CA-2013-117660</td>\n",
       "      <td>Koforidua</td>\n",
       "      <td>Office Supplies</td>\n",
       "      <td>5.904</td>\n",
       "      <td>2</td>\n",
       "      <td>1.9926</td>\n",
       "    </tr>\n",
       "    <tr>\n",
       "      <th>13798</th>\n",
       "      <td>2013-12-31</td>\n",
       "      <td>IZ-2013-2550</td>\n",
       "      <td>Takoradi</td>\n",
       "      <td>Office Supplies</td>\n",
       "      <td>13.020</td>\n",
       "      <td>1</td>\n",
       "      <td>4.0200</td>\n",
       "    </tr>\n",
       "  </tbody>\n",
       "</table>\n",
       "<p>13799 rows × 7 columns</p>\n",
       "</div>"
      ],
      "text/plain": [
       "       Order Date        Order ID     Market         Category     Sales  \\\n",
       "0      2013-01-01   ID-2013-37383     Kumasi       Technology  1649.214   \n",
       "1      2013-01-01   IN-2013-47960     Kumasi        Furniture  1358.280   \n",
       "2      2013-01-01   ID-2013-37383     Kumasi       Technology   728.568   \n",
       "3      2013-01-01   IN-2013-47960     Kumasi        Furniture  2189.520   \n",
       "4      2013-01-01   IN-2013-47960     Kumasi        Furniture  1362.060   \n",
       "...           ...             ...        ...              ...       ...   \n",
       "13794  2013-12-31    TU-2013-9400   Takoradi        Furniture    10.080   \n",
       "13795  2013-12-31  CA-2013-163951  Koforidua  Office Supplies    16.520   \n",
       "13796  2013-12-31  US-2013-111528  Koforidua  Office Supplies     6.384   \n",
       "13797  2013-12-31  CA-2013-117660  Koforidua  Office Supplies     5.904   \n",
       "13798  2013-12-31    IZ-2013-2550   Takoradi  Office Supplies    13.020   \n",
       "\n",
       "       Quantity    Profit  \n",
       "0             7   36.6240  \n",
       "1             7  203.7000  \n",
       "2             8  -32.4720  \n",
       "3             6  372.0600  \n",
       "4             7  340.4100  \n",
       "...         ...       ...  \n",
       "13794         1   -5.5500  \n",
       "13795         5    1.6520  \n",
       "13796         1    2.1546  \n",
       "13797         2    1.9926  \n",
       "13798         1    4.0200  \n",
       "\n",
       "[13799 rows x 7 columns]"
      ]
     },
     "execution_count": 5,
     "metadata": {},
     "output_type": "execute_result"
    }
   ],
   "source": [
    "sales_data # A preview of the content of the sales_data dataframe"
   ]
  },
  {
   "cell_type": "markdown",
   "metadata": {},
   "source": [
    "## Question 1\n",
    "\n",
    "#### Average Sales and Profits per Market"
   ]
  },
  {
   "cell_type": "code",
   "execution_count": 6,
   "metadata": {},
   "outputs": [],
   "source": [
    "average_sales_by_markets= sales_data.groupby([\"Market\"])[\"Sales\"].mean()\n",
    "# calculating the average sales per market"
   ]
  },
  {
   "cell_type": "code",
   "execution_count": 7,
   "metadata": {},
   "outputs": [
    {
     "data": {
      "text/plain": [
       "Market\n",
       "Accra        198.738815\n",
       "Bawku        292.778971\n",
       "Koforidua    235.842570\n",
       "Kumasi       337.225210\n",
       "Takoradi     166.683119\n",
       "Name: Sales, dtype: float64"
      ]
     },
     "execution_count": 7,
     "metadata": {},
     "output_type": "execute_result"
    }
   ],
   "source": [
    "average_sales_by_markets"
   ]
  },
  {
   "cell_type": "code",
   "execution_count": 8,
   "metadata": {},
   "outputs": [],
   "source": [
    "average_profits_by_markets = sales_data.groupby([\"Market\"])[\"Profit\"].mean()\n",
    "# calculating the average profits per market"
   ]
  },
  {
   "cell_type": "code",
   "execution_count": 9,
   "metadata": {},
   "outputs": [
    {
     "data": {
      "text/plain": [
       "Market\n",
       "Accra        20.070383\n",
       "Bawku        38.771895\n",
       "Koforidua    31.677105\n",
       "Kumasi       42.596237\n",
       "Takoradi     14.329422\n",
       "Name: Profit, dtype: float64"
      ]
     },
     "execution_count": 9,
     "metadata": {},
     "output_type": "execute_result"
    }
   ],
   "source": [
    "average_profits_by_markets"
   ]
  },
  {
   "cell_type": "code",
   "execution_count": 10,
   "metadata": {},
   "outputs": [],
   "source": [
    "averages_by_market= pd.merge(average_profits_by_markets,average_sales_by_markets, on=\"Market\",sort=True)\n",
    "# merging the previously generated dataframes into one based on the \"Market\" key."
   ]
  },
  {
   "cell_type": "code",
   "execution_count": 11,
   "metadata": {},
   "outputs": [
    {
     "data": {
      "text/html": [
       "<div>\n",
       "<style scoped>\n",
       "    .dataframe tbody tr th:only-of-type {\n",
       "        vertical-align: middle;\n",
       "    }\n",
       "\n",
       "    .dataframe tbody tr th {\n",
       "        vertical-align: top;\n",
       "    }\n",
       "\n",
       "    .dataframe thead th {\n",
       "        text-align: right;\n",
       "    }\n",
       "</style>\n",
       "<table border=\"1\" class=\"dataframe\">\n",
       "  <thead>\n",
       "    <tr style=\"text-align: right;\">\n",
       "      <th></th>\n",
       "      <th>Profit</th>\n",
       "      <th>Sales</th>\n",
       "    </tr>\n",
       "    <tr>\n",
       "      <th>Market</th>\n",
       "      <th></th>\n",
       "      <th></th>\n",
       "    </tr>\n",
       "  </thead>\n",
       "  <tbody>\n",
       "    <tr>\n",
       "      <th>Accra</th>\n",
       "      <td>20.070383</td>\n",
       "      <td>198.738815</td>\n",
       "    </tr>\n",
       "    <tr>\n",
       "      <th>Bawku</th>\n",
       "      <td>38.771895</td>\n",
       "      <td>292.778971</td>\n",
       "    </tr>\n",
       "    <tr>\n",
       "      <th>Koforidua</th>\n",
       "      <td>31.677105</td>\n",
       "      <td>235.842570</td>\n",
       "    </tr>\n",
       "    <tr>\n",
       "      <th>Kumasi</th>\n",
       "      <td>42.596237</td>\n",
       "      <td>337.225210</td>\n",
       "    </tr>\n",
       "    <tr>\n",
       "      <th>Takoradi</th>\n",
       "      <td>14.329422</td>\n",
       "      <td>166.683119</td>\n",
       "    </tr>\n",
       "  </tbody>\n",
       "</table>\n",
       "</div>"
      ],
      "text/plain": [
       "              Profit       Sales\n",
       "Market                          \n",
       "Accra      20.070383  198.738815\n",
       "Bawku      38.771895  292.778971\n",
       "Koforidua  31.677105  235.842570\n",
       "Kumasi     42.596237  337.225210\n",
       "Takoradi   14.329422  166.683119"
      ]
     },
     "execution_count": 11,
     "metadata": {},
     "output_type": "execute_result"
    }
   ],
   "source": [
    "averages_by_market"
   ]
  },
  {
   "cell_type": "code",
   "execution_count": 12,
   "metadata": {},
   "outputs": [],
   "source": [
    "averages_by_market.columns =[\"Average Profit\", \"Average Sales\"]\n",
    "## Renaming the columns of to reflect the correct description of the attributes."
   ]
  },
  {
   "cell_type": "code",
   "execution_count": 13,
   "metadata": {
    "scrolled": true
   },
   "outputs": [
    {
     "data": {
      "text/html": [
       "<div>\n",
       "<style scoped>\n",
       "    .dataframe tbody tr th:only-of-type {\n",
       "        vertical-align: middle;\n",
       "    }\n",
       "\n",
       "    .dataframe tbody tr th {\n",
       "        vertical-align: top;\n",
       "    }\n",
       "\n",
       "    .dataframe thead th {\n",
       "        text-align: right;\n",
       "    }\n",
       "</style>\n",
       "<table border=\"1\" class=\"dataframe\">\n",
       "  <thead>\n",
       "    <tr style=\"text-align: right;\">\n",
       "      <th></th>\n",
       "      <th>Average Profit</th>\n",
       "      <th>Average Sales</th>\n",
       "    </tr>\n",
       "    <tr>\n",
       "      <th>Market</th>\n",
       "      <th></th>\n",
       "      <th></th>\n",
       "    </tr>\n",
       "  </thead>\n",
       "  <tbody>\n",
       "    <tr>\n",
       "      <th>Accra</th>\n",
       "      <td>20.070383</td>\n",
       "      <td>198.738815</td>\n",
       "    </tr>\n",
       "    <tr>\n",
       "      <th>Bawku</th>\n",
       "      <td>38.771895</td>\n",
       "      <td>292.778971</td>\n",
       "    </tr>\n",
       "    <tr>\n",
       "      <th>Koforidua</th>\n",
       "      <td>31.677105</td>\n",
       "      <td>235.842570</td>\n",
       "    </tr>\n",
       "    <tr>\n",
       "      <th>Kumasi</th>\n",
       "      <td>42.596237</td>\n",
       "      <td>337.225210</td>\n",
       "    </tr>\n",
       "    <tr>\n",
       "      <th>Takoradi</th>\n",
       "      <td>14.329422</td>\n",
       "      <td>166.683119</td>\n",
       "    </tr>\n",
       "  </tbody>\n",
       "</table>\n",
       "</div>"
      ],
      "text/plain": [
       "           Average Profit  Average Sales\n",
       "Market                                  \n",
       "Accra           20.070383     198.738815\n",
       "Bawku           38.771895     292.778971\n",
       "Koforidua       31.677105     235.842570\n",
       "Kumasi          42.596237     337.225210\n",
       "Takoradi        14.329422     166.683119"
      ]
     },
     "execution_count": 13,
     "metadata": {},
     "output_type": "execute_result"
    }
   ],
   "source": [
    "averages_by_market # A look at the averages_by_market dataframe"
   ]
  },
  {
   "cell_type": "markdown",
   "metadata": {},
   "source": [
    "Question 1i  \n",
    "Average Profit and Sales for each market\n",
    "\n",
    "|Market|\tAverage Profit|\tAverage Sales|\n",
    "|---|---|---|\n",
    "|Accra|\t20.070383|\t198.738815|\n",
    "|Bawku|\t38.771895|\t292.778971|\n",
    "|Koforidua|\t31.677105|\t235.842570|\n",
    "|Kumasi|\t42.596237|\t337.225210|\n",
    "|Takoradi|\t14.329422|\t166.683119|"
   ]
  },
  {
   "cell_type": "code",
   "execution_count": null,
   "metadata": {},
   "outputs": [],
   "source": []
  },
  {
   "cell_type": "markdown",
   "metadata": {},
   "source": [
    "Question 1ii  \n",
    "A stacked bar chart showing the average sales and profit per market"
   ]
  },
  {
   "cell_type": "code",
   "execution_count": 14,
   "metadata": {},
   "outputs": [
    {
     "data": {
      "text/plain": [
       "Text(0.5, 1.0, 'A stacked bar chart showing the average sales and profit per market.')"
      ]
     },
     "execution_count": 14,
     "metadata": {},
     "output_type": "execute_result"
    },
    {
     "data": {
      "image/png": "[encoded data removed]",
      "text/plain": [
       "<Figure size 432x288 with 1 Axes>"
      ]
     },
     "metadata": {
      "needs_background": "light"
     },
     "output_type": "display_data"
    }
   ],
   "source": [
    "averages_by_market.plot.bar(stacked=True) # Plotting a stacked bar chart of the average profit and sales\n",
    "plt.xlabel(\"Market\") #assigning a label to the x-axis of the bar chart\n",
    "plt.ylabel(\"Magnitude\") #assigning a label to the y-axis of the bar chart\n",
    "plt.title(\"A stacked bar chart showing the average sales and profit per market.\") #assigning a title to the bar chart"
   ]
  },
  {
   "cell_type": "markdown",
   "metadata": {},
   "source": [
    "Question 1iii  \n",
    "Which market brings more sales on the average"
   ]
  },
  {
   "cell_type": "markdown",
   "metadata": {},
   "source": [
    " Based on the Data Visualisation above, Kumasi brings in the most sales on average."
   ]
  },
  {
   "cell_type": "markdown",
   "metadata": {},
   "source": [
    "# Question 2\n",
    "\n",
    "#### Analysis Based on Days and Months"
   ]
  },
  {
   "cell_type": "code",
   "execution_count": 15,
   "metadata": {},
   "outputs": [],
   "source": [
    "sales_data[\"Order Date\"]=sales_data[\"Order Date\"].astype('datetime64[ns]')\n",
    "#converting the records in the \"Order Date\" column to datetime datatype so that the .dt accessor can be used on it"
   ]
  },
  {
   "cell_type": "code",
   "execution_count": null,
   "metadata": {},
   "outputs": [],
   "source": []
  },
  {
   "cell_type": "markdown",
   "metadata": {},
   "source": [
    "Question 2i  \n",
    "Extracting the days and months from the Order Date and adding them to the data frame with the name \"Days\" and \"Months\" respectively"
   ]
  },
  {
   "cell_type": "code",
   "execution_count": 16,
   "metadata": {},
   "outputs": [],
   "source": [
    "sales_data[\"Months\"]=sales_data[\"Order Date\"].dt.month_name()\n",
    "# extracting the month of the order and adding it to the DataFrame under the \"Months\" column"
   ]
  },
  {
   "cell_type": "code",
   "execution_count": 17,
   "metadata": {},
   "outputs": [],
   "source": [
    "sales_data[\"Days\"]=sales_data[\"Order Date\"].dt.day_name()\n",
    "# extracting the day of the order and adding it to the DataFrame under the \"Days\" column"
   ]
  },
  {
   "cell_type": "code",
   "execution_count": null,
   "metadata": {},
   "outputs": [],
   "source": []
  },
  {
   "cell_type": "code",
   "execution_count": 18,
   "metadata": {},
   "outputs": [],
   "source": [
    "profits_by_month=sales_data.groupby(sales_data[\"Months\"], sort=False)[\"Profit\"].sum()\n",
    "# summing the profits made according to the month in which it was made.\n",
    "# pandas was instructed not to sort the data according to alphabetical order of the months. This is helpful in drawing the\n",
    "# line plot so that it is plotted from January through to February."
   ]
  },
  {
   "cell_type": "code",
   "execution_count": null,
   "metadata": {},
   "outputs": [],
   "source": []
  },
  {
   "cell_type": "code",
   "execution_count": 19,
   "metadata": {},
   "outputs": [
    {
     "data": {
      "text/html": [
       "<div>\n",
       "<style scoped>\n",
       "    .dataframe tbody tr th:only-of-type {\n",
       "        vertical-align: middle;\n",
       "    }\n",
       "\n",
       "    .dataframe tbody tr th {\n",
       "        vertical-align: top;\n",
       "    }\n",
       "\n",
       "    .dataframe thead th {\n",
       "        text-align: right;\n",
       "    }\n",
       "</style>\n",
       "<table border=\"1\" class=\"dataframe\">\n",
       "  <thead>\n",
       "    <tr style=\"text-align: right;\">\n",
       "      <th></th>\n",
       "      <th>Months</th>\n",
       "      <th>Total Profits by Month</th>\n",
       "    </tr>\n",
       "  </thead>\n",
       "  <tbody>\n",
       "    <tr>\n",
       "      <th>0</th>\n",
       "      <td>January</td>\n",
       "      <td>26052.40252</td>\n",
       "    </tr>\n",
       "    <tr>\n",
       "      <th>1</th>\n",
       "      <td>February</td>\n",
       "      <td>31553.99756</td>\n",
       "    </tr>\n",
       "    <tr>\n",
       "      <th>2</th>\n",
       "      <td>March</td>\n",
       "      <td>34873.71938</td>\n",
       "    </tr>\n",
       "    <tr>\n",
       "      <th>3</th>\n",
       "      <td>April</td>\n",
       "      <td>26008.05144</td>\n",
       "    </tr>\n",
       "    <tr>\n",
       "      <th>4</th>\n",
       "      <td>May</td>\n",
       "      <td>39053.30946</td>\n",
       "    </tr>\n",
       "    <tr>\n",
       "      <th>5</th>\n",
       "      <td>June</td>\n",
       "      <td>43298.85000</td>\n",
       "    </tr>\n",
       "    <tr>\n",
       "      <th>6</th>\n",
       "      <td>July</td>\n",
       "      <td>27019.91294</td>\n",
       "    </tr>\n",
       "    <tr>\n",
       "      <th>7</th>\n",
       "      <td>August</td>\n",
       "      <td>32977.75576</td>\n",
       "    </tr>\n",
       "    <tr>\n",
       "      <th>8</th>\n",
       "      <td>September</td>\n",
       "      <td>18850.09084</td>\n",
       "    </tr>\n",
       "    <tr>\n",
       "      <th>9</th>\n",
       "      <td>October</td>\n",
       "      <td>27871.97470</td>\n",
       "    </tr>\n",
       "    <tr>\n",
       "      <th>10</th>\n",
       "      <td>November</td>\n",
       "      <td>51720.88568</td>\n",
       "    </tr>\n",
       "    <tr>\n",
       "      <th>11</th>\n",
       "      <td>December</td>\n",
       "      <td>47654.27990</td>\n",
       "    </tr>\n",
       "  </tbody>\n",
       "</table>\n",
       "</div>"
      ],
      "text/plain": [
       "       Months  Total Profits by Month\n",
       "0     January             26052.40252\n",
       "1    February             31553.99756\n",
       "2       March             34873.71938\n",
       "3       April             26008.05144\n",
       "4         May             39053.30946\n",
       "5        June             43298.85000\n",
       "6        July             27019.91294\n",
       "7      August             32977.75576\n",
       "8   September             18850.09084\n",
       "9     October             27871.97470\n",
       "10   November             51720.88568\n",
       "11   December             47654.27990"
      ]
     },
     "execution_count": 19,
     "metadata": {},
     "output_type": "execute_result"
    }
   ],
   "source": [
    "profits_by_month.reset_index(name=\"Total Profits by Month\") # A look at the content of the content of the profits_by_month"
   ]
  },
  {
   "cell_type": "code",
   "execution_count": null,
   "metadata": {},
   "outputs": [],
   "source": []
  },
  {
   "cell_type": "markdown",
   "metadata": {},
   "source": [
    "Question 2ii  \n",
    "Line plot showing trend of profit from January to December"
   ]
  },
  {
   "cell_type": "code",
   "execution_count": 37,
   "metadata": {},
   "outputs": [
    {
     "data": {
      "text/plain": [
       "([<matplotlib.axis.XTick at 0x210cb0de280>,\n",
       "  <matplotlib.axis.XTick at 0x210cb0de250>,\n",
       "  <matplotlib.axis.XTick at 0x210cb0f07f0>,\n",
       "  <matplotlib.axis.XTick at 0x210cb0f7070>,\n",
       "  <matplotlib.axis.XTick at 0x210cb0f76a0>,\n",
       "  <matplotlib.axis.XTick at 0x210cb0f7df0>,\n",
       "  <matplotlib.axis.XTick at 0x210cb0fc580>,\n",
       "  <matplotlib.axis.XTick at 0x210cb0f7a90>,\n",
       "  <matplotlib.axis.XTick at 0x210cb09d2e0>,\n",
       "  <matplotlib.axis.XTick at 0x210cb0fcd30>,\n",
       "  <matplotlib.axis.XTick at 0x210cb0ff4c0>,\n",
       "  <matplotlib.axis.XTick at 0x210cb0ffc10>],\n",
       " [Text(0, 0, 'Jan'),\n",
       "  Text(1, 0, 'Feb'),\n",
       "  Text(2, 0, 'Mar'),\n",
       "  Text(3, 0, 'Apr'),\n",
       "  Text(4, 0, 'May'),\n",
       "  Text(5, 0, 'Jun'),\n",
       "  Text(6, 0, 'Jul'),\n",
       "  Text(7, 0, 'Aug'),\n",
       "  Text(8, 0, 'Sep'),\n",
       "  Text(9, 0, 'Oct'),\n",
       "  Text(10, 0, 'Nov'),\n",
       "  Text(11, 0, 'Dec')])"
      ]
     },
     "execution_count": 37,
     "metadata": {},
     "output_type": "execute_result"
    },
    {
     "data": {
      "image/png": "[encoded data removed]",
      "text/plain": [
       "<Figure size 720x360 with 1 Axes>"
      ]
     },
     "metadata": {
      "needs_background": "light"
     },
     "output_type": "display_data"
    }
   ],
   "source": [
    "profits_by_month.plot(figsize=[10,5]) #creating line plot of data in the profits_by_month dataframe\n",
    "plt.xlabel(\"Months\") # assigning the name for the x-axis label\n",
    "plt.ylabel(\"Profits\") # assigning the name for the y-axis label\n",
    "\n",
    "# Ensuring months are represented in the ticks on the x-axis\n",
    "plt.xticks(ticks=[0,1,2,3,4,5,6,7,8,9,10,11],labels=['Jan','Feb','Mar','Apr','May','Jun','Jul','Aug','Sep','Oct','Nov','Dec'])"
   ]
  },
  {
   "cell_type": "code",
   "execution_count": null,
   "metadata": {},
   "outputs": [],
   "source": []
  },
  {
   "cell_type": "markdown",
   "metadata": {},
   "source": [
    "Question 2iii  \n",
    "Finding the day on which the company makes high sales on the average"
   ]
  },
  {
   "cell_type": "code",
   "execution_count": 21,
   "metadata": {},
   "outputs": [],
   "source": [
    "average_profits_per_day=sales_data.groupby(sales_data[\"Days\"])[\"Profit\"].mean().sort_values(ascending=False)\n",
    "# summing the profits made according to the day in which it was made.\n",
    "# pandas was instructed to sort the data in descending order according to the size of profit made on the day\n",
    "# This order was chosen in order to make it easier to identify the day on which the company made most profits on average \n",
    "# as was demanded in question 2iii."
   ]
  },
  {
   "cell_type": "code",
   "execution_count": 22,
   "metadata": {},
   "outputs": [
    {
     "data": {
      "text/html": [
       "<div>\n",
       "<style scoped>\n",
       "    .dataframe tbody tr th:only-of-type {\n",
       "        vertical-align: middle;\n",
       "    }\n",
       "\n",
       "    .dataframe tbody tr th {\n",
       "        vertical-align: top;\n",
       "    }\n",
       "\n",
       "    .dataframe thead th {\n",
       "        text-align: right;\n",
       "    }\n",
       "</style>\n",
       "<table border=\"1\" class=\"dataframe\">\n",
       "  <thead>\n",
       "    <tr style=\"text-align: right;\">\n",
       "      <th></th>\n",
       "      <th>Days</th>\n",
       "      <th>Average Profits Per Day</th>\n",
       "    </tr>\n",
       "  </thead>\n",
       "  <tbody>\n",
       "    <tr>\n",
       "      <th>0</th>\n",
       "      <td>Sunday</td>\n",
       "      <td>33.285545</td>\n",
       "    </tr>\n",
       "    <tr>\n",
       "      <th>1</th>\n",
       "      <td>Friday</td>\n",
       "      <td>32.044748</td>\n",
       "    </tr>\n",
       "    <tr>\n",
       "      <th>2</th>\n",
       "      <td>Saturday</td>\n",
       "      <td>31.780093</td>\n",
       "    </tr>\n",
       "    <tr>\n",
       "      <th>3</th>\n",
       "      <td>Monday</td>\n",
       "      <td>29.989306</td>\n",
       "    </tr>\n",
       "    <tr>\n",
       "      <th>4</th>\n",
       "      <td>Tuesday</td>\n",
       "      <td>28.956732</td>\n",
       "    </tr>\n",
       "    <tr>\n",
       "      <th>5</th>\n",
       "      <td>Wednesday</td>\n",
       "      <td>28.897777</td>\n",
       "    </tr>\n",
       "    <tr>\n",
       "      <th>6</th>\n",
       "      <td>Thursday</td>\n",
       "      <td>24.366412</td>\n",
       "    </tr>\n",
       "  </tbody>\n",
       "</table>\n",
       "</div>"
      ],
      "text/plain": [
       "        Days  Average Profits Per Day\n",
       "0     Sunday                33.285545\n",
       "1     Friday                32.044748\n",
       "2   Saturday                31.780093\n",
       "3     Monday                29.989306\n",
       "4    Tuesday                28.956732\n",
       "5  Wednesday                28.897777\n",
       "6   Thursday                24.366412"
      ]
     },
     "execution_count": 22,
     "metadata": {},
     "output_type": "execute_result"
    }
   ],
   "source": [
    "average_profits_per_day.reset_index(name=\"Average Profits Per Day\")\n",
    "# A look at the content of the average_profits_per_day dataframe in order to answer question 2iii"
   ]
  },
  {
   "cell_type": "markdown",
   "metadata": {},
   "source": [
    " Based on the data in _average_profits_per_day_ generated above, the company earns the most profits on average (33.29) on Sundays"
   ]
  },
  {
   "cell_type": "code",
   "execution_count": null,
   "metadata": {},
   "outputs": [],
   "source": []
  },
  {
   "cell_type": "markdown",
   "metadata": {},
   "source": [
    "# Question 3\n",
    "\n",
    "### Sales and Profit Correlation"
   ]
  },
  {
   "cell_type": "code",
   "execution_count": null,
   "metadata": {},
   "outputs": [],
   "source": []
  },
  {
   "cell_type": "markdown",
   "metadata": {},
   "source": [
    "Question 3i  \n",
    "Correlation between Sales and Profit and what it means"
   ]
  },
  {
   "cell_type": "markdown",
   "metadata": {},
   "source": [
    " Correlation between Sales and Profit basically tells us about what happens to sales when profits change and vice versa.  \n",
    " Based on the stacked bar chart visualisation, for each market, sales has a positive correlation with profits meaning that if a market, say market A got higher sales as compared to market B, then market A also got higher profits as compared to market B. It is also important to note that this correlation does not necessarily mean causation."
   ]
  },
  {
   "cell_type": "code",
   "execution_count": null,
   "metadata": {},
   "outputs": [],
   "source": []
  },
  {
   "cell_type": "markdown",
   "metadata": {},
   "source": [
    "Question 3ii  \n",
    "Scatter plot to show relationship between sales and profit"
   ]
  },
  {
   "cell_type": "code",
   "execution_count": 23,
   "metadata": {},
   "outputs": [
    {
     "data": {
      "text/plain": [
       "Text(0.5, 1.0, 'Scatter plot showing relationship between Sales and Profits')"
      ]
     },
     "execution_count": 23,
     "metadata": {},
     "output_type": "execute_result"
    },
    {
     "data": {
      "image/png": "[encoded data removed]",
      "text/plain": [
       "<Figure size 1080x576 with 1 Axes>"
      ]
     },
     "metadata": {
      "needs_background": "light"
     },
     "output_type": "display_data"
    }
   ],
   "source": [
    "plt.figure(figsize=(15,8)) # Setting the size of the scatter plot\n",
    "plt.scatter(sales_data[\"Profit\"],sales_data[\"Sales\"]) # A scatter plot to show the relationship between Sales and Profit\n",
    "plt.xlabel(\"Profit\") # Labelling the x-axis of the scatter plot\n",
    "plt.ylabel(\"Sales\") # Labelling the y-axis of the scatter plot\n",
    "plt.title(\"Scatter plot showing relationship between Sales and Profits\") # Giving the scatter plot a suitable title"
   ]
  },
  {
   "cell_type": "markdown",
   "metadata": {},
   "source": [
    " As profits move from the negative range of values (losses), sales generally reduce till profits get to zero (break even). From then on, profits increase with increasing sales.\n",
    "\n",
    "It can therefore be deduced that more of bad sales leads to more losses where as more of good sales leads to more profits."
   ]
  },
  {
   "cell_type": "code",
   "execution_count": null,
   "metadata": {},
   "outputs": [],
   "source": []
  },
  {
   "cell_type": "markdown",
   "metadata": {},
   "source": [
    "# Question 4\n",
    "\n",
    "## Analysis based on product category for each market"
   ]
  },
  {
   "cell_type": "code",
   "execution_count": 24,
   "metadata": {},
   "outputs": [],
   "source": [
    "# Creating a dataframe that lists the profit made in each category by the various markets\n",
    "profit_by_market_category=sales_data.groupby([\"Market\",\"Category\"])[\"Profit\"].sum()"
   ]
  },
  {
   "cell_type": "code",
   "execution_count": 25,
   "metadata": {},
   "outputs": [],
   "source": [
    "# Resetting the index of the groupby dataframe generated so that all columns on it can be accessed easily\n",
    "profit_by_market_category=profit_by_market_category.reset_index(name=\"Profits Per Market Category\")"
   ]
  },
  {
   "cell_type": "code",
   "execution_count": 26,
   "metadata": {},
   "outputs": [
    {
     "data": {
      "text/html": [
       "<div>\n",
       "<style scoped>\n",
       "    .dataframe tbody tr th:only-of-type {\n",
       "        vertical-align: middle;\n",
       "    }\n",
       "\n",
       "    .dataframe tbody tr th {\n",
       "        vertical-align: top;\n",
       "    }\n",
       "\n",
       "    .dataframe thead th {\n",
       "        text-align: right;\n",
       "    }\n",
       "</style>\n",
       "<table border=\"1\" class=\"dataframe\">\n",
       "  <thead>\n",
       "    <tr style=\"text-align: right;\">\n",
       "      <th></th>\n",
       "      <th>Market</th>\n",
       "      <th>Category</th>\n",
       "      <th>Profits Per Market Category</th>\n",
       "    </tr>\n",
       "  </thead>\n",
       "  <tbody>\n",
       "    <tr>\n",
       "      <th>0</th>\n",
       "      <td>Accra</td>\n",
       "      <td>Furniture</td>\n",
       "      <td>8450.13800</td>\n",
       "    </tr>\n",
       "    <tr>\n",
       "      <th>1</th>\n",
       "      <td>Accra</td>\n",
       "      <td>Office Supplies</td>\n",
       "      <td>22750.18600</td>\n",
       "    </tr>\n",
       "    <tr>\n",
       "      <th>2</th>\n",
       "      <td>Accra</td>\n",
       "      <td>Technology</td>\n",
       "      <td>30215.04948</td>\n",
       "    </tr>\n",
       "    <tr>\n",
       "      <th>3</th>\n",
       "      <td>Bawku</td>\n",
       "      <td>Furniture</td>\n",
       "      <td>21545.34300</td>\n",
       "    </tr>\n",
       "    <tr>\n",
       "      <th>4</th>\n",
       "      <td>Bawku</td>\n",
       "      <td>Office Supplies</td>\n",
       "      <td>44659.37700</td>\n",
       "    </tr>\n",
       "    <tr>\n",
       "      <th>5</th>\n",
       "      <td>Bawku</td>\n",
       "      <td>Technology</td>\n",
       "      <td>37199.92500</td>\n",
       "    </tr>\n",
       "    <tr>\n",
       "      <th>6</th>\n",
       "      <td>Koforidua</td>\n",
       "      <td>Furniture</td>\n",
       "      <td>6959.95310</td>\n",
       "    </tr>\n",
       "    <tr>\n",
       "      <th>7</th>\n",
       "      <td>Koforidua</td>\n",
       "      <td>Office Supplies</td>\n",
       "      <td>35015.66390</td>\n",
       "    </tr>\n",
       "    <tr>\n",
       "      <th>8</th>\n",
       "      <td>Koforidua</td>\n",
       "      <td>Technology</td>\n",
       "      <td>39751.31380</td>\n",
       "    </tr>\n",
       "    <tr>\n",
       "      <th>9</th>\n",
       "      <td>Kumasi</td>\n",
       "      <td>Furniture</td>\n",
       "      <td>40527.02940</td>\n",
       "    </tr>\n",
       "    <tr>\n",
       "      <th>10</th>\n",
       "      <td>Kumasi</td>\n",
       "      <td>Office Supplies</td>\n",
       "      <td>28955.41890</td>\n",
       "    </tr>\n",
       "    <tr>\n",
       "      <th>11</th>\n",
       "      <td>Kumasi</td>\n",
       "      <td>Technology</td>\n",
       "      <td>53620.67760</td>\n",
       "    </tr>\n",
       "    <tr>\n",
       "      <th>12</th>\n",
       "      <td>Takoradi</td>\n",
       "      <td>Furniture</td>\n",
       "      <td>6580.43700</td>\n",
       "    </tr>\n",
       "    <tr>\n",
       "      <th>13</th>\n",
       "      <td>Takoradi</td>\n",
       "      <td>Office Supplies</td>\n",
       "      <td>17865.09000</td>\n",
       "    </tr>\n",
       "    <tr>\n",
       "      <th>14</th>\n",
       "      <td>Takoradi</td>\n",
       "      <td>Technology</td>\n",
       "      <td>12839.62800</td>\n",
       "    </tr>\n",
       "  </tbody>\n",
       "</table>\n",
       "</div>"
      ],
      "text/plain": [
       "       Market         Category  Profits Per Market Category\n",
       "0       Accra        Furniture                   8450.13800\n",
       "1       Accra  Office Supplies                  22750.18600\n",
       "2       Accra       Technology                  30215.04948\n",
       "3       Bawku        Furniture                  21545.34300\n",
       "4       Bawku  Office Supplies                  44659.37700\n",
       "5       Bawku       Technology                  37199.92500\n",
       "6   Koforidua        Furniture                   6959.95310\n",
       "7   Koforidua  Office Supplies                  35015.66390\n",
       "8   Koforidua       Technology                  39751.31380\n",
       "9      Kumasi        Furniture                  40527.02940\n",
       "10     Kumasi  Office Supplies                  28955.41890\n",
       "11     Kumasi       Technology                  53620.67760\n",
       "12   Takoradi        Furniture                   6580.43700\n",
       "13   Takoradi  Office Supplies                  17865.09000\n",
       "14   Takoradi       Technology                  12839.62800"
      ]
     },
     "execution_count": 26,
     "metadata": {},
     "output_type": "execute_result"
    }
   ],
   "source": [
    "profit_by_market_category # A look at the profit_by_market_category dataframe"
   ]
  },
  {
   "cell_type": "code",
   "execution_count": null,
   "metadata": {},
   "outputs": [],
   "source": []
  },
  {
   "cell_type": "code",
   "execution_count": 27,
   "metadata": {},
   "outputs": [],
   "source": [
    "# Reshaping the dataframe containing information on the total profit of each market based on various categories by the help\n",
    "# of a pivot table.\n",
    "# This is necessary in order to make the task of generating a stacked bar chart easier than otherwise.\n",
    "reshaped_market_profit_category=profit_by_market_category.pivot(index=\"Market\",columns=\"Category\",values=\"Profits Per Market Category\")"
   ]
  },
  {
   "cell_type": "code",
   "execution_count": 28,
   "metadata": {},
   "outputs": [
    {
     "data": {
      "text/html": [
       "<div>\n",
       "<style scoped>\n",
       "    .dataframe tbody tr th:only-of-type {\n",
       "        vertical-align: middle;\n",
       "    }\n",
       "\n",
       "    .dataframe tbody tr th {\n",
       "        vertical-align: top;\n",
       "    }\n",
       "\n",
       "    .dataframe thead th {\n",
       "        text-align: right;\n",
       "    }\n",
       "</style>\n",
       "<table border=\"1\" class=\"dataframe\">\n",
       "  <thead>\n",
       "    <tr style=\"text-align: right;\">\n",
       "      <th>Category</th>\n",
       "      <th>Furniture</th>\n",
       "      <th>Office Supplies</th>\n",
       "      <th>Technology</th>\n",
       "    </tr>\n",
       "    <tr>\n",
       "      <th>Market</th>\n",
       "      <th></th>\n",
       "      <th></th>\n",
       "      <th></th>\n",
       "    </tr>\n",
       "  </thead>\n",
       "  <tbody>\n",
       "    <tr>\n",
       "      <th>Accra</th>\n",
       "      <td>8450.1380</td>\n",
       "      <td>22750.1860</td>\n",
       "      <td>30215.04948</td>\n",
       "    </tr>\n",
       "    <tr>\n",
       "      <th>Bawku</th>\n",
       "      <td>21545.3430</td>\n",
       "      <td>44659.3770</td>\n",
       "      <td>37199.92500</td>\n",
       "    </tr>\n",
       "    <tr>\n",
       "      <th>Koforidua</th>\n",
       "      <td>6959.9531</td>\n",
       "      <td>35015.6639</td>\n",
       "      <td>39751.31380</td>\n",
       "    </tr>\n",
       "    <tr>\n",
       "      <th>Kumasi</th>\n",
       "      <td>40527.0294</td>\n",
       "      <td>28955.4189</td>\n",
       "      <td>53620.67760</td>\n",
       "    </tr>\n",
       "    <tr>\n",
       "      <th>Takoradi</th>\n",
       "      <td>6580.4370</td>\n",
       "      <td>17865.0900</td>\n",
       "      <td>12839.62800</td>\n",
       "    </tr>\n",
       "  </tbody>\n",
       "</table>\n",
       "</div>"
      ],
      "text/plain": [
       "Category    Furniture  Office Supplies   Technology\n",
       "Market                                             \n",
       "Accra       8450.1380       22750.1860  30215.04948\n",
       "Bawku      21545.3430       44659.3770  37199.92500\n",
       "Koforidua   6959.9531       35015.6639  39751.31380\n",
       "Kumasi     40527.0294       28955.4189  53620.67760\n",
       "Takoradi    6580.4370       17865.0900  12839.62800"
      ]
     },
     "execution_count": 28,
     "metadata": {},
     "output_type": "execute_result"
    }
   ],
   "source": [
    "reshaped_market_profit_category # A look at the reshaped_market_profit_category dataframe"
   ]
  },
  {
   "cell_type": "code",
   "execution_count": null,
   "metadata": {},
   "outputs": [],
   "source": []
  },
  {
   "cell_type": "markdown",
   "metadata": {},
   "source": [
    "Question 4i  \n",
    "grouped bar chart showing the total profit for the different product category(Category) for each market"
   ]
  },
  {
   "cell_type": "code",
   "execution_count": 41,
   "metadata": {},
   "outputs": [
    {
     "data": {
      "text/plain": [
       "Text(0.5, 1.0, 'Bar chart of total profit category-wise for each market')"
      ]
     },
     "execution_count": 41,
     "metadata": {},
     "output_type": "execute_result"
    },
    {
     "data": {
      "image/png": "[encoded data removed]",
      "text/plain": [
       "<Figure size 720x504 with 1 Axes>"
      ]
     },
     "metadata": {
      "needs_background": "light"
     },
     "output_type": "display_data"
    }
   ],
   "source": [
    "# Creating a grouped bar chart of the total profit earned category-wise for each market\n",
    "reshaped_market_profit_category.plot.bar(figsize=[10,7],color={\"Furniture\":\"red\",\"Office Supplies\":\"yellow\",\"Technology\":\"blue\"})\n",
    "plt.xlabel(\"Product category per Market\")\n",
    "plt.ylabel(\"Total profit\")\n",
    "plt.title(\"Bar chart of total profit category-wise for each market\") # Assigning a title to the chart"
   ]
  },
  {
   "cell_type": "code",
   "execution_count": null,
   "metadata": {},
   "outputs": [],
   "source": []
  },
  {
   "cell_type": "markdown",
   "metadata": {},
   "source": [
    "Question 4ii  \n",
    "Products that perform well in each market"
   ]
  },
  {
   "cell_type": "markdown",
   "metadata": {},
   "source": [
    "#### From the graph above, the following are the top-performing product categories for each market\n",
    "\n",
    "* Accra : Technology\n",
    "\n",
    "* Bawku : Office Supplies\n",
    "\n",
    "* Koforidua : Technology\n",
    "\n",
    "* Kumasi : Technology\n",
    "\n",
    "* Takoradi : Office Supplies\n"
   ]
  }
 ],
 "metadata": {
  "kernelspec": {
   "display_name": "Python 3 (ipykernel)",
   "language": "python",
   "name": "python3"
  },
  "language_info": {
   "codemirror_mode": {
    "name": "ipython",
    "version": 3
   },
   "file_extension": ".py",
   "mimetype": "text/x-python",
   "name": "python",
   "nbconvert_exporter": "python",
   "pygments_lexer": "ipython3",
   "version": "3.9.12"
  }
 },
 "nbformat": 4,
 "nbformat_minor": 4
}
